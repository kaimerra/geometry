{
 "cells": [
  {
   "cell_type": "code",
   "execution_count": 2,
   "id": "4d5273c5-c834-4555-97e2-b3b43e7e4e9c",
   "metadata": {},
   "outputs": [],
   "source": [
    "%load_ext autoreload\n",
    "%autoreload "
   ]
  },
  {
   "cell_type": "code",
   "execution_count": 3,
   "id": "32dc09d2-5063-49a0-93d1-f75fbf38d3ae",
   "metadata": {},
   "outputs": [],
   "source": [
    "import math\n",
    "\n",
    "import torch\n",
    "from torch import nn\n",
    "import numpy as np\n",
    "import matplotlib.pyplot as plt"
   ]
  },
  {
   "cell_type": "code",
   "execution_count": null,
   "id": "6075b0fa-c983-455e-a3aa-c464048a7640",
   "metadata": {},
   "outputs": [],
   "source": []
  },
  {
   "cell_type": "code",
   "execution_count": 4,
   "id": "cffd0619-17b4-467d-8ef1-562ced970050",
   "metadata": {},
   "outputs": [
    {
     "name": "stdout",
     "output_type": "stream",
     "text": [
      "--2022-03-03 15:21:46--  https://raw.githubusercontent.com/facebookresearch/pytorch3d/main/docs/tutorials/utils/plot_image_grid.py\n",
      "Resolving raw.githubusercontent.com (raw.githubusercontent.com)... 185.199.110.133, 185.199.109.133, 185.199.108.133, ...\n",
      "Connecting to raw.githubusercontent.com (raw.githubusercontent.com)|185.199.110.133|:443... connected.\n",
      "HTTP request sent, awaiting response... 200 OK\n",
      "Length: 1608 (1.6K) [text/plain]\n",
      "Saving to: ‘plot_image_grid.py.13’\n",
      "\n",
      "plot_image_grid.py. 100%[===================>]   1.57K  --.-KB/s    in 0s      \n",
      "\n",
      "2022-03-03 15:21:46 (54.3 MB/s) - ‘plot_image_grid.py.13’ saved [1608/1608]\n",
      "\n",
      "--2022-03-03 15:21:46--  https://raw.githubusercontent.com/facebookresearch/pytorch3d/main/docs/tutorials/utils/generate_cow_renders.py\n",
      "Resolving raw.githubusercontent.com (raw.githubusercontent.com)... 185.199.110.133, 185.199.109.133, 185.199.108.133, ...\n",
      "Connecting to raw.githubusercontent.com (raw.githubusercontent.com)|185.199.110.133|:443... connected.\n",
      "HTTP request sent, awaiting response... 200 OK\n",
      "Length: 6675 (6.5K) [text/plain]\n",
      "Saving to: ‘generate_cow_renders.py.13’\n",
      "\n",
      "generate_cow_render 100%[===================>]   6.52K  --.-KB/s    in 0s      \n",
      "\n",
      "2022-03-03 15:21:46 (68.8 MB/s) - ‘generate_cow_renders.py.13’ saved [6675/6675]\n",
      "\n"
     ]
    }
   ],
   "source": [
    "!wget https://raw.githubusercontent.com/facebookresearch/pytorch3d/main/docs/tutorials/utils/plot_image_grid.py\n",
    "!wget https://raw.githubusercontent.com/facebookresearch/pytorch3d/main/docs/tutorials/utils/generate_cow_renders.py\n",
    "from plot_image_grid import image_grid\n",
    "from generate_cow_renders import generate_cow_renders"
   ]
  },
  {
   "cell_type": "code",
   "execution_count": 5,
   "id": "e369e50a-e4bf-452a-b233-5acd7ee5dbd4",
   "metadata": {},
   "outputs": [
    {
     "name": "stderr",
     "output_type": "stream",
     "text": [
      "/home/brett/miniconda3/envs/geometry/lib/python3.9/site-packages/pytorch3d/transforms/transform3d.py:780: UserWarning: R is not a valid rotation matrix\n",
      "  warnings.warn(msg)\n"
     ]
    }
   ],
   "source": [
    "_, cow_images, _ = generate_cow_renders()"
   ]
  },
  {
   "cell_type": "code",
   "execution_count": 6,
   "id": "bdba8a71-9c8c-44d7-bbed-0a0976b3d731",
   "metadata": {},
   "outputs": [],
   "source": [
    "from kaigeo import datasets, nerf_models, gan_models"
   ]
  },
  {
   "cell_type": "code",
   "execution_count": 7,
   "id": "9be2fcbb-3d14-4ad4-98d9-83a6bb45f40f",
   "metadata": {},
   "outputs": [],
   "source": [
    "from torchgan.models import DCGANDiscriminator"
   ]
  },
  {
   "cell_type": "code",
   "execution_count": 8,
   "id": "aa21ac1e-5c42-4b23-8b0e-652bf4b9c125",
   "metadata": {},
   "outputs": [],
   "source": [
    "device = torch.device('cuda')"
   ]
  },
  {
   "cell_type": "code",
   "execution_count": 9,
   "id": "c7f10ae3-4b39-4c02-bb24-7de65da88667",
   "metadata": {},
   "outputs": [],
   "source": [
    "session2 = datasets.load_session2()\n",
    "session1 = datasets.load_session1()"
   ]
  },
  {
   "cell_type": "code",
   "execution_count": 10,
   "id": "463c39bd-6d1f-493b-960f-8fdeb5be1301",
   "metadata": {},
   "outputs": [],
   "source": [
    "#gan_models.generate_cameras(10).T.shape"
   ]
  },
  {
   "cell_type": "code",
   "execution_count": 11,
   "id": "7be390e0-b11c-4b11-b8e0-34e86d2ed840",
   "metadata": {},
   "outputs": [],
   "source": [
    "target_images = torch.concat([session1.target_images, session2.target_images]).to(device)[:, :64, :64][1:]"
   ]
  },
  {
   "cell_type": "code",
   "execution_count": 12,
   "id": "51ca8617-99df-4a71-b2e3-1e612842f5e2",
   "metadata": {},
   "outputs": [],
   "source": [
    "target_images = cow_images[:, ::2, ::2].to(device)"
   ]
  },
  {
   "cell_type": "code",
   "execution_count": 13,
   "id": "16bd6eb9-57d8-4a00-bbdd-5f87c69c7fbc",
   "metadata": {},
   "outputs": [
    {
     "name": "stdout",
     "output_type": "stream",
     "text": [
      "40\n"
     ]
    }
   ],
   "source": [
    "print(len(target_images))"
   ]
  },
  {
   "cell_type": "code",
   "execution_count": 14,
   "id": "4c828481-0705-4643-959b-16d20656832d",
   "metadata": {},
   "outputs": [
    {
     "name": "stderr",
     "output_type": "stream",
     "text": [
      "/home/brett/miniconda3/envs/geometry/lib/python3.9/site-packages/torch/functional.py:445: UserWarning: torch.meshgrid: in an upcoming release, it will be required to pass the indexing argument. (Triggered internally at  /opt/conda/conda-bld/pytorch_1640811803361/work/aten/src/ATen/native/TensorShape.cpp:2157.)\n",
      "  return _VF.meshgrid(tensors, **kwargs)  # type: ignore[attr-defined]\n"
     ]
    }
   ],
   "source": [
    "ls = gan_models.VolumeModel(device).to(device)\n",
    "opt_ls = torch.optim.Adam(ls.parameters(), lr=0.01)#, weight_decay=1e-5)"
   ]
  },
  {
   "cell_type": "code",
   "execution_count": 15,
   "id": "cba43aee-f95d-48f5-9368-ac7eb1b4882b",
   "metadata": {},
   "outputs": [],
   "source": [
    "d = DCGANDiscriminator(in_size=64, last_nonlinearity=nn.Sigmoid()).to(device) #Discriminator().to(device)\n",
    "opt_d = torch.optim.Adam(d.parameters(), lr=0.001)"
   ]
  },
  {
   "cell_type": "code",
   "execution_count": 16,
   "id": "2566e48d-7375-4e3f-852a-b32db5b166cc",
   "metadata": {},
   "outputs": [
    {
     "data": {
      "text/plain": [
       "tensor([0.3591], device='cuda:0', grad_fn=<ViewBackward0>)"
      ]
     },
     "execution_count": 16,
     "metadata": {},
     "output_type": "execute_result"
    }
   ],
   "source": [
    "d(target_images[0:1][:, :64, :64].permute(0, 3, 1, 2))"
   ]
  },
  {
   "cell_type": "code",
   "execution_count": 17,
   "id": "e0098c1a-1f03-4476-a5d4-1ae687011be5",
   "metadata": {},
   "outputs": [],
   "source": [
    "def descriminator_step():\n",
    "    opt_d.zero_grad()\n",
    "\n",
    "    loss = 0\n",
    "    ri = torch.randint(len(target_images), size=(3,))\n",
    "    Y = torch.full((3,), 1.0, dtype=torch.float, device=device)            \n",
    "    y = d(target_images[ri].permute(0, 3, 1, 2))\n",
    "    loss += torch.nn.functional.binary_cross_entropy(y, Y)\n",
    "    \n",
    "    _, rendered = ls.generate(1)\n",
    "    Y = torch.full((1,), 0.0, dtype=torch.float, device=device)\n",
    "    y = d(rendered.permute(0, 3, 1, 2))\n",
    "    loss += torch.nn.functional.binary_cross_entropy(y, Y)\n",
    "\n",
    "    loss.backward()\n",
    "    opt_d.step()\n",
    "\n",
    "    return loss"
   ]
  },
  {
   "cell_type": "code",
   "execution_count": 20,
   "id": "b4fd0447-9a93-4938-b148-03f90685748a",
   "metadata": {},
   "outputs": [],
   "source": [
    "def generator_step():\n",
    "    opt_ls.zero_grad()\n",
    "    density, rendered = ls.generate(10)\n",
    "    Y = torch.full((10,), 1.0, dtype=torch.float, device=device)\n",
    "    y  = d(rendered.permute(0, 3, 1, 2))\n",
    "    mean_density = torch.mean(density)\n",
    "    loss = torch.nn.functional.binary_cross_entropy(y, Y) #- 3.0*mean_density\n",
    "\n",
    "    loss.backward()    \n",
    "    opt_ls.step()\n",
    "\n",
    "    return loss, mean_density, rendered"
   ]
  },
  {
   "cell_type": "code",
   "execution_count": 21,
   "id": "6ce8c91c-c945-4c2f-8cf8-063f8aed25cc",
   "metadata": {},
   "outputs": [
    {
     "data": {
      "text/plain": [
       "<matplotlib.image.AxesImage at 0x7f93381ff970>"
      ]
     },
     "execution_count": 21,
     "metadata": {},
     "output_type": "execute_result"
    },
    {
     "data": {
      "image/png": "[encoded data removed]",
      "text/plain": [
       "<Figure size 432x288 with 1 Axes>"
      ]
     },
     "metadata": {
      "needs_background": "light"
     },
     "output_type": "display_data"
    }
   ],
   "source": [
    "plt.imshow(target_images[22].detach().cpu().numpy())"
   ]
  },
  {
   "cell_type": "code",
   "execution_count": 22,
   "id": "8a9920d6-4957-41fe-afde-02dd40b651e1",
   "metadata": {
    "tags": []
   },
   "outputs": [
    {
     "name": "stderr",
     "output_type": "stream",
     "text": [
      "/home/brett/miniconda3/envs/geometry/lib/python3.9/site-packages/pytorch3d/renderer/implicit/raymarching.py:187: UserWarning: One or more elements of rays_densities are outside of validrange (0.0, 1.0)\n",
      "  warnings.warn(\n"
     ]
    },
    {
     "name": "stdout",
     "output_type": "stream",
     "text": [
      "d tensor(0.0135, device='cuda:0', grad_fn=<AddBackward0>)\n",
      "ls tensor(11.7961, device='cuda:0', grad_fn=<BinaryCrossEntropyBackward0>)\n",
      "density tensor(0.4611, device='cuda:0', grad_fn=<MeanBackward0>)\n",
      "d tensor(0., device='cuda:0', grad_fn=<AddBackward0>)\n",
      "ls tensor(12.8770, device='cuda:0', grad_fn=<BinaryCrossEntropyBackward0>)\n",
      "density tensor(0.3844, device='cuda:0', grad_fn=<MeanBackward0>)\n"
     ]
    },
    {
     "ename": "KeyboardInterrupt",
     "evalue": "",
     "output_type": "error",
     "traceback": [
      "\u001b[0;31m---------------------------------------------------------------------------\u001b[0m",
      "\u001b[0;31mKeyboardInterrupt\u001b[0m                         Traceback (most recent call last)",
      "Input \u001b[0;32mIn [22]\u001b[0m, in \u001b[0;36m<cell line: 1>\u001b[0;34m()\u001b[0m\n\u001b[1;32m      2\u001b[0m d_loss \u001b[38;5;241m=\u001b[39m descriminator_step()    \n\u001b[1;32m      3\u001b[0m \u001b[38;5;28;01mfor\u001b[39;00m _ \u001b[38;5;129;01min\u001b[39;00m \u001b[38;5;28mrange\u001b[39m(\u001b[38;5;241m10\u001b[39m):\n\u001b[0;32m----> 4\u001b[0m     g_loss, mean_density, rendered \u001b[38;5;241m=\u001b[39m \u001b[43mgenerator_step\u001b[49m\u001b[43m(\u001b[49m\u001b[43m)\u001b[49m\n\u001b[1;32m      6\u001b[0m \u001b[38;5;28;01mif\u001b[39;00m i \u001b[38;5;241m%\u001b[39m \u001b[38;5;241m50\u001b[39m \u001b[38;5;241m==\u001b[39m \u001b[38;5;241m0\u001b[39m:\n\u001b[1;32m      7\u001b[0m     \u001b[38;5;28mprint\u001b[39m(\u001b[38;5;124m'\u001b[39m\u001b[38;5;124md\u001b[39m\u001b[38;5;124m'\u001b[39m, d_loss)\n",
      "Input \u001b[0;32mIn [20]\u001b[0m, in \u001b[0;36mgenerator_step\u001b[0;34m()\u001b[0m\n\u001b[1;32m      6\u001b[0m mean_density \u001b[38;5;241m=\u001b[39m torch\u001b[38;5;241m.\u001b[39mmean(density)\n\u001b[1;32m      7\u001b[0m loss \u001b[38;5;241m=\u001b[39m torch\u001b[38;5;241m.\u001b[39mnn\u001b[38;5;241m.\u001b[39mfunctional\u001b[38;5;241m.\u001b[39mbinary_cross_entropy(y, Y) \u001b[38;5;66;03m#- 3.0*mean_density\u001b[39;00m\n\u001b[0;32m----> 9\u001b[0m \u001b[43mloss\u001b[49m\u001b[38;5;241;43m.\u001b[39;49m\u001b[43mbackward\u001b[49m\u001b[43m(\u001b[49m\u001b[43m)\u001b[49m    \n\u001b[1;32m     10\u001b[0m opt_ls\u001b[38;5;241m.\u001b[39mstep()\n\u001b[1;32m     12\u001b[0m \u001b[38;5;28;01mreturn\u001b[39;00m loss, mean_density, rendered\n",
      "File \u001b[0;32m~/miniconda3/envs/geometry/lib/python3.9/site-packages/torch/_tensor.py:307\u001b[0m, in \u001b[0;36mTensor.backward\u001b[0;34m(self, gradient, retain_graph, create_graph, inputs)\u001b[0m\n\u001b[1;32m    298\u001b[0m \u001b[38;5;28;01mif\u001b[39;00m has_torch_function_unary(\u001b[38;5;28mself\u001b[39m):\n\u001b[1;32m    299\u001b[0m     \u001b[38;5;28;01mreturn\u001b[39;00m handle_torch_function(\n\u001b[1;32m    300\u001b[0m         Tensor\u001b[38;5;241m.\u001b[39mbackward,\n\u001b[1;32m    301\u001b[0m         (\u001b[38;5;28mself\u001b[39m,),\n\u001b[0;32m   (...)\u001b[0m\n\u001b[1;32m    305\u001b[0m         create_graph\u001b[38;5;241m=\u001b[39mcreate_graph,\n\u001b[1;32m    306\u001b[0m         inputs\u001b[38;5;241m=\u001b[39minputs)\n\u001b[0;32m--> 307\u001b[0m \u001b[43mtorch\u001b[49m\u001b[38;5;241;43m.\u001b[39;49m\u001b[43mautograd\u001b[49m\u001b[38;5;241;43m.\u001b[39;49m\u001b[43mbackward\u001b[49m\u001b[43m(\u001b[49m\u001b[38;5;28;43mself\u001b[39;49m\u001b[43m,\u001b[49m\u001b[43m \u001b[49m\u001b[43mgradient\u001b[49m\u001b[43m,\u001b[49m\u001b[43m \u001b[49m\u001b[43mretain_graph\u001b[49m\u001b[43m,\u001b[49m\u001b[43m \u001b[49m\u001b[43mcreate_graph\u001b[49m\u001b[43m,\u001b[49m\u001b[43m \u001b[49m\u001b[43minputs\u001b[49m\u001b[38;5;241;43m=\u001b[39;49m\u001b[43minputs\u001b[49m\u001b[43m)\u001b[49m\n",
      "File \u001b[0;32m~/miniconda3/envs/geometry/lib/python3.9/site-packages/torch/autograd/__init__.py:154\u001b[0m, in \u001b[0;36mbackward\u001b[0;34m(tensors, grad_tensors, retain_graph, create_graph, grad_variables, inputs)\u001b[0m\n\u001b[1;32m    151\u001b[0m \u001b[38;5;28;01mif\u001b[39;00m retain_graph \u001b[38;5;129;01mis\u001b[39;00m \u001b[38;5;28;01mNone\u001b[39;00m:\n\u001b[1;32m    152\u001b[0m     retain_graph \u001b[38;5;241m=\u001b[39m create_graph\n\u001b[0;32m--> 154\u001b[0m \u001b[43mVariable\u001b[49m\u001b[38;5;241;43m.\u001b[39;49m\u001b[43m_execution_engine\u001b[49m\u001b[38;5;241;43m.\u001b[39;49m\u001b[43mrun_backward\u001b[49m\u001b[43m(\u001b[49m\n\u001b[1;32m    155\u001b[0m \u001b[43m    \u001b[49m\u001b[43mtensors\u001b[49m\u001b[43m,\u001b[49m\u001b[43m \u001b[49m\u001b[43mgrad_tensors_\u001b[49m\u001b[43m,\u001b[49m\u001b[43m \u001b[49m\u001b[43mretain_graph\u001b[49m\u001b[43m,\u001b[49m\u001b[43m \u001b[49m\u001b[43mcreate_graph\u001b[49m\u001b[43m,\u001b[49m\u001b[43m \u001b[49m\u001b[43minputs\u001b[49m\u001b[43m,\u001b[49m\n\u001b[1;32m    156\u001b[0m \u001b[43m    \u001b[49m\u001b[43mallow_unreachable\u001b[49m\u001b[38;5;241;43m=\u001b[39;49m\u001b[38;5;28;43;01mTrue\u001b[39;49;00m\u001b[43m,\u001b[49m\u001b[43m \u001b[49m\u001b[43maccumulate_grad\u001b[49m\u001b[38;5;241;43m=\u001b[39;49m\u001b[38;5;28;43;01mTrue\u001b[39;49;00m\u001b[43m)\u001b[49m\n",
      "\u001b[0;31mKeyboardInterrupt\u001b[0m: "
     ]
    }
   ],
   "source": [
    "for i in range(300):\n",
    "    d_loss = descriminator_step()    \n",
    "    for _ in range(10):\n",
    "        g_loss, mean_density, rendered = generator_step()\n",
    "    \n",
    "    if i % 50 == 0:\n",
    "        print('d', d_loss)\n",
    "        print('ls', g_loss)\n",
    "        print('density', mean_density)\n"
   ]
  },
  {
   "cell_type": "code",
   "execution_count": 24,
   "id": "6ff36118-de38-48f7-987c-e4bda808d961",
   "metadata": {},
   "outputs": [
    {
     "name": "stderr",
     "output_type": "stream",
     "text": [
      "Clipping input data to the valid range for imshow with RGB data ([0..1] for floats or [0..255] for integers).\n"
     ]
    },
    {
     "data": {
      "text/plain": [
       "<matplotlib.image.AxesImage at 0x7f931df4a400>"
      ]
     },
     "execution_count": 24,
     "metadata": {},
     "output_type": "execute_result"
    },
    {
     "data": {
      "image/png": "[encoded data removed]",
      "text/plain": [
       "<Figure size 432x288 with 1 Axes>"
      ]
     },
     "metadata": {
      "needs_background": "light"
     },
     "output_type": "display_data"
    }
   ],
   "source": [
    "plt.imshow(rendered.detach().cpu()[8])"
   ]
  },
  {
   "cell_type": "code",
   "execution_count": null,
   "id": "9e1bea88-9e42-41ab-b021-dc6f9a301fdb",
   "metadata": {
    "tags": []
   },
   "outputs": [],
   "source": [
    "plt.imshow(target_images.detach().cpu()[200])"
   ]
  },
  {
   "cell_type": "code",
   "execution_count": null,
   "id": "8ca6bb93-5460-4e41-bcf7-bc12f707f00f",
   "metadata": {},
   "outputs": [],
   "source": [
    "plt.imshow(generate_images()[1].detach().cpu()[0])"
   ]
  },
  {
   "cell_type": "code",
   "execution_count": null,
   "id": "1005649f-d8e2-47f6-8a23-80ce74bd8dcc",
   "metadata": {},
   "outputs": [],
   "source": [
    "torch.min(generate_images()[1].detach().cpu()[0])t"
   ]
  },
  {
   "cell_type": "code",
   "execution_count": null,
   "id": "34670850-63b5-4ec8-a452-96e332923c98",
   "metadata": {},
   "outputs": [],
   "source": [
    "R, T = look_at_view_transform(\n",
    "    eye = torch.tensor([[0.9, s0.0, 0.0]]), \n",
    "    at = torch.tensor([[0.0, 0.0, 0.0]])\n",
    ")\n",
    "\n",
    "target_cameras = FoVPerspectiveCameras(device=device, R=R, T=T)\n",
    "\n",
    "rendered, _ = renderer_grid(target_cameras, ls.random_gen)\n",
    "rendered = rendered[:, :, :, 1:4]\n",
    "Y = torch.full((1,), 1.0, dtype=torch.float, device=device)\n",
    "y = d(rendered.permute(0, 3, 1, 2)).view(-1)\n",
    "plt.imshow(rendered.detach().cpu()[0])"
   ]
  },
  {
   "cell_type": "code",
   "execution_count": null,
   "id": "1de5ab4e-c77d-42a1-97a0-0ab8197b234a",
   "metadata": {},
   "outputs": [],
   "source": [
    "opt.zero_grad()\n",
    "res, _ = renderer_grid(target_cameras, volumetric_function)\n",
    "loss = torch.nn.functional.mse_loss(res[0][:, :, 1:4], target_image)\n",
    "loss.backward()\n",
    "opt.step()"
   ]
  },
  {
   "cell_type": "code",
   "execution_count": null,
   "id": "ffad4ece-35b5-4e74-8dcd-331af082fefd",
   "metadata": {},
   "outputs": [],
   "source": []
  },
  {
   "cell_type": "code",
   "execution_count": null,
   "id": "336321f6-3ee5-400a-a2f9-7b098b67111e",
   "metadata": {},
   "outputs": [],
   "source": []
  }
 ],
 "metadata": {
  "kernelspec": {
   "display_name": "Python 3 (ipykernel)",
   "language": "python",
   "name": "python3"
  },
  "language_info": {
   "codemirror_mode": {
    "name": "ipython",
    "version": 3
   },
   "file_extension": ".py",
   "mimetype": "text/x-python",
   "name": "python",
   "nbconvert_exporter": "python",
   "pygments_lexer": "ipython3",
   "version": "3.9.7"
  }
 },
 "nbformat": 4,
 "nbformat_minor": 5
}
