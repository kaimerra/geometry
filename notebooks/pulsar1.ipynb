{
 "cells": [
  {
   "cell_type": "code",
   "execution_count": null,
   "id": "12909005-769a-4dd8-8093-21ab46aae42c",
   "metadata": {},
   "outputs": [],
   "source": [
    "%load_ext autoreload\n",
    "%autoreload 2"
   ]
  },
  {
   "cell_type": "code",
   "execution_count": null,
   "id": "61101c96-a764-4284-88c6-7f7901dc8b17",
   "metadata": {},
   "outputs": [],
   "source": [
    "#!pip install plotly pandas"
   ]
  },
  {
   "cell_type": "code",
   "execution_count": null,
   "id": "3735940d-fa20-4633-b057-750f96128aa1",
   "metadata": {},
   "outputs": [],
   "source": [
    "from kaigeo import datasets, pulsar_models\n",
    "import torch\n",
    "\n",
    "import matplotlib.pyplot as plt"
   ]
  },
  {
   "cell_type": "code",
   "execution_count": null,
   "id": "644b955c-9c2d-469d-a9ed-bc55f441e98b",
   "metadata": {},
   "outputs": [],
   "source": [
    "from scipy.spatial.transform import Rotation "
   ]
  },
  {
   "cell_type": "code",
   "execution_count": null,
   "id": "1c14ab65-90fc-439e-b552-bdcd8e53a758",
   "metadata": {},
   "outputs": [],
   "source": [
    "device = torch.device(\"cuda\")"
   ]
  },
  {
   "cell_type": "code",
   "execution_count": null,
   "id": "f4c1990b-4a76-4471-824b-786b0800efd1",
   "metadata": {},
   "outputs": [],
   "source": [
    "session = datasets.load_session2()"
   ]
  },
  {
   "cell_type": "code",
   "execution_count": null,
   "id": "df250c42-7e99-4d14-840e-26e1d4b87b9c",
   "metadata": {},
   "outputs": [],
   "source": [
    "session.target_images.shape"
   ]
  },
  {
   "cell_type": "code",
   "execution_count": null,
   "id": "e0407c1a-5224-4ea4-86d6-87b5cd172465",
   "metadata": {},
   "outputs": [],
   "source": [
    "from pytorch3d.renderer import (\n",
    "    look_at_view_transform\n",
    ")\n"
   ]
  },
  {
   "cell_type": "code",
   "execution_count": null,
   "id": "ba6b8b55-6789-4b5d-92a2-031b4c8389cc",
   "metadata": {},
   "outputs": [],
   "source": [
    "session.look.shape"
   ]
  },
  {
   "cell_type": "code",
   "execution_count": null,
   "id": "39ac51a7-c1ee-4f8d-ac17-7ce6e0c0979b",
   "metadata": {},
   "outputs": [],
   "source": [
    "R, T = look_at_view_transform(eye=session.eye, at=(session.eye - session.forward))"
   ]
  },
  {
   "cell_type": "code",
   "execution_count": null,
   "id": "6759227b-09f8-4412-8e52-fc724e78e2cd",
   "metadata": {},
   "outputs": [],
   "source": [
    "session.euler = Rotation.from_matrix(R).as_euler('xyz')"
   ]
  },
  {
   "cell_type": "code",
   "execution_count": null,
   "id": "39ebbe1b-c511-4a1c-ab39-426cfc594b25",
   "metadata": {},
   "outputs": [],
   "source": [
    "import matplotlib.pyplot as plt\n",
    "import numpy as np\n",
    "\n",
    "fig = plt.figure(figsize=(10, 10))\n",
    "\n",
    "ax = fig.add_subplot(projection='3d')\n",
    "\n",
    "ax.view_init(vertical_axis=\"y\")\n",
    "\n",
    "ax.plot(session.eye[:, 0], session.eye[:, 1], session.eye[:, 2])#, look[:, 0], look[:, 1], look[:, 2])\n",
    "ax.quiver3D(session.eye[:, 0], \n",
    "            session.eye[:, 1], \n",
    "            session.eye[:, 2], \n",
    "            session.forward[:, 0], \n",
    "            session.forward[:, 1], \n",
    "            session.forward[:, 2], \n",
    "            color='r')"
   ]
  },
  {
   "cell_type": "code",
   "execution_count": null,
   "id": "4728cd7a-86c4-470b-80cd-e9c5b0ff39ac",
   "metadata": {},
   "outputs": [],
   "source": []
  },
  {
   "cell_type": "code",
   "execution_count": null,
   "id": "1c56749b-1fac-4a7f-9f71-0e87e1605f05",
   "metadata": {},
   "outputs": [],
   "source": [
    "target_images = session.target_images[1:].to(device)[:, :100, :100]"
   ]
  },
  {
   "cell_type": "code",
   "execution_count": null,
   "id": "4056cd5e-d542-421c-8ed3-3a5686f6908f",
   "metadata": {},
   "outputs": [],
   "source": [
    "m = pulsar_models.PulsarModel(\n",
    "    target_images.shape[1],\n",
    "    target_images.shape[2],\n",
    "    target_images.shape[0],\n",
    "    n_points=200000,\n",
    "    ball_size=0.01,\n",
    "    positions=torch.tensor(session.eye),\n",
    "    angles=torch.tensor(session.euler),\n",
    "    \n",
    ").to(device)"
   ]
  },
  {
   "cell_type": "code",
   "execution_count": null,
   "id": "0197a298-63d6-4aff-b491-cc1837810cbf",
   "metadata": {},
   "outputs": [],
   "source": [
    "opt = torch.optim.Adam([\n",
    "    {'params': m.geometry_model.parameters(), 'lr': 1e-2},\n",
    "    {'params': m.camera.parameters(), 'lr': 1e-4}\n",
    "])"
   ]
  },
  {
   "cell_type": "code",
   "execution_count": null,
   "id": "38560710-49e2-4c7d-bf68-2d8da844e4c4",
   "metadata": {},
   "outputs": [],
   "source": []
  },
  {
   "cell_type": "code",
   "execution_count": null,
   "id": "b9503dcf-f1ac-44b4-be46-f0f5e30af332",
   "metadata": {
    "tags": []
   },
   "outputs": [],
   "source": [
    "for i in range(1000):\n",
    "    \n",
    "    for _ in range(10):\n",
    "        opt.zero_grad()\n",
    "\n",
    "        #m.set_grads(True, False)\n",
    "\n",
    "        ri = torch.randint(len(target_images), (20,))\n",
    "        Y = target_images[ri]\n",
    "\n",
    "        y = m(ri)\n",
    "    \n",
    "        mse_loss = torch.nn.functional.l1_loss(y, Y)\n",
    "\n",
    "        loss = mse_loss# * 10.0 + ball_loss\n",
    "        loss.backward()\n",
    "        \n",
    "        opt.step()\n",
    "        \n",
    "    # only randomize after position\n",
    "    #m.randomize()\n",
    "\n",
    "        \n",
    "    for _ in range(0):\n",
    "        opt.zero_grad()\n",
    "\n",
    "        m.set_grads(False, True)\n",
    "\n",
    "        ri = torch.randint(len(target_images), (20,))\n",
    "        Y = target_images[ri]\n",
    "\n",
    "        y = m(ri)\n",
    "    \n",
    "        mse_loss = torch.nn.functional.l1_loss(y, Y)\n",
    "    \n",
    "        loss = mse_loss# * 10.0 + ball_loss\n",
    "        loss.backward()\n",
    "        \n",
    "        opt.step()\n",
    "    \n",
    "    if i % 10 == 0:\n",
    "        print(mse_loss, loss, torch.mean(m.geometry_model.rad))\n"
   ]
  },
  {
   "cell_type": "code",
   "execution_count": null,
   "id": "83bfca3b-552a-44be-8e2c-210b64ffd055",
   "metadata": {},
   "outputs": [],
   "source": [
    "plt.imshow(y[10].detach().cpu().numpy())"
   ]
  },
  {
   "cell_type": "code",
   "execution_count": null,
   "id": "2c8811f6-0ac5-4138-82f9-815240c8da67",
   "metadata": {},
   "outputs": [],
   "source": [
    "plt.imshow(Y[10].detach().cpu().numpy())"
   ]
  },
  {
   "cell_type": "code",
   "execution_count": null,
   "id": "eb957a73-99f1-4c4f-835c-a8eab38f1f75",
   "metadata": {},
   "outputs": [],
   "source": [
    "y = m(ri)\n",
    "torch.nn.functional.mse_loss(y, Y).backward()\n",
    "\n",
    "pulsar_models.plot3d(m) "
   ]
  },
  {
   "cell_type": "code",
   "execution_count": null,
   "id": "069bcdcd-767d-498e-aa11-3e65f2d1f5ae",
   "metadata": {},
   "outputs": [],
   "source": [
    "#pulsar_models.plot3d_plotly(m)"
   ]
  },
  {
   "cell_type": "code",
   "execution_count": null,
   "id": "06418ece-706d-4918-8efc-082df1c9e6bd",
   "metadata": {},
   "outputs": [],
   "source": []
  },
  {
   "cell_type": "code",
   "execution_count": null,
   "id": "00f08361-1d42-442c-a68d-c465764f6ce4",
   "metadata": {},
   "outputs": [],
   "source": []
  },
  {
   "cell_type": "code",
   "execution_count": null,
   "id": "598935bb-f59d-4b04-8e2e-b5c8eb34bdd2",
   "metadata": {},
   "outputs": [],
   "source": [
    "import open3d as o3d\n",
    "\n",
    "# generate some neat n times 3 matrix using a variant of sync function\n",
    "\n",
    "important = m.get_meaningful_points(True)\n",
    "xyz = m.geometry_model.pos[important].detach().cpu().numpy()\n",
    "colors = torch.sigmoid(m.geometry_model.col[important]).detach().cpu().numpy()\n",
    "\n",
    "# Pass xyz to Open3D.o3d.geometry.PointCloud and visualize\n",
    "pcd = o3d.geometry.PointCloud()\n",
    "\n",
    "pcd.points = o3d.utility.Vector3dVector(xyz)\n",
    "pcd.colors = o3d.utility.Vector3dVector(colors)\n",
    "o3d.visualization.draw_geometries([pcd])\n",
    "\n"
   ]
  },
  {
   "cell_type": "code",
   "execution_count": null,
   "id": "403662fc-1caf-4a64-92ef-0aa820c6d2b9",
   "metadata": {},
   "outputs": [],
   "source": []
  },
  {
   "cell_type": "code",
   "execution_count": null,
   "id": "87d5b858-8422-48ce-a696-15f041163191",
   "metadata": {},
   "outputs": [],
   "source": []
  },
  {
   "cell_type": "code",
   "execution_count": null,
   "id": "acd75a7a-6f4b-402e-ac40-296167609000",
   "metadata": {},
   "outputs": [],
   "source": []
  },
  {
   "cell_type": "code",
   "execution_count": null,
   "id": "ba1c19fa-3916-43ba-aa4f-77851542e4e9",
   "metadata": {},
   "outputs": [],
   "source": []
  },
  {
   "cell_type": "code",
   "execution_count": null,
   "id": "f9f11f91-40bc-472d-aa8e-a70bfa88441b",
   "metadata": {},
   "outputs": [],
   "source": []
  },
  {
   "cell_type": "code",
   "execution_count": null,
   "id": "3d18c178-903c-4de6-ac58-dc8f30570b8c",
   "metadata": {},
   "outputs": [],
   "source": []
  },
  {
   "cell_type": "code",
   "execution_count": null,
   "id": "97cc4b55-bca6-4ca7-9958-234b8a3494d1",
   "metadata": {},
   "outputs": [],
   "source": []
  },
  {
   "cell_type": "code",
   "execution_count": null,
   "id": "cf41d620-cf72-424a-97bd-11ab1fafba3b",
   "metadata": {},
   "outputs": [],
   "source": []
  },
  {
   "cell_type": "code",
   "execution_count": null,
   "id": "daa24e59-c10e-4b20-b07f-e3d16a9e3274",
   "metadata": {},
   "outputs": [],
   "source": []
  }
 ],
 "metadata": {
  "kernelspec": {
   "display_name": "Python 3 (ipykernel)",
   "language": "python",
   "name": "python3"
  },
  "language_info": {
   "codemirror_mode": {
    "name": "ipython",
    "version": 3
   },
   "file_extension": ".py",
   "mimetype": "text/x-python",
   "name": "python",
   "nbconvert_exporter": "python",
   "pygments_lexer": "ipython3",
   "version": "3.9.7"
  }
 },
 "nbformat": 4,
 "nbformat_minor": 5
}
